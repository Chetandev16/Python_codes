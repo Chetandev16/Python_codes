{
 "cells": [
  {
   "cell_type": "markdown",
   "id": "bd19edf6",
   "metadata": {},
   "source": [
    "AREA OF TRIANGLE"
   ]
  },
  {
   "cell_type": "code",
   "execution_count": 1,
   "id": "9c289ff2",
   "metadata": {},
   "outputs": [],
   "source": [
    "a=8\n",
    "b=11\n",
    "c=13\n",
    "s=(a+b+c)/2"
   ]
  },
  {
   "cell_type": "code",
   "execution_count": 2,
   "id": "93d0cc40",
   "metadata": {},
   "outputs": [],
   "source": [
    "import math\n",
    "\n",
    "area = math.sqrt(s*(s-a)*(s-b)*(s-c))"
   ]
  },
  {
   "cell_type": "code",
   "execution_count": 3,
   "id": "bdef7316",
   "metadata": {},
   "outputs": [
    {
     "name": "stdout",
     "output_type": "stream",
     "text": [
      "43.81780460041329\n"
     ]
    }
   ],
   "source": [
    "print(area)"
   ]
  },
  {
   "cell_type": "code",
   "execution_count": null,
   "id": "c3462894",
   "metadata": {},
   "outputs": [],
   "source": []
  }
 ],
 "metadata": {
  "kernelspec": {
   "display_name": "Python 3",
   "language": "python",
   "name": "python3"
  },
  "language_info": {
   "codemirror_mode": {
    "name": "ipython",
    "version": 3
   },
   "file_extension": ".py",
   "mimetype": "text/x-python",
   "name": "python",
   "nbconvert_exporter": "python",
   "pygments_lexer": "ipython3",
   "version": "3.9.5"
  }
 },
 "nbformat": 4,
 "nbformat_minor": 5
}
