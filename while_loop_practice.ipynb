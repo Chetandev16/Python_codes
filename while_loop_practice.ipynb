{
 "cells": [
  {
   "cell_type": "code",
   "execution_count": null,
   "id": "8d98039e",
   "metadata": {},
   "outputs": [],
   "source": [
    "num=int(input(\"enter the number :- \"))\n",
    "c=num\n",
    "ans=1\n",
    "while(c!=1):\n",
    "    ans = c*ans\n",
    "    c=c-1\n",
    "print(\"factorial of {} is\".format(num),ans)"
   ]
  },
  {
   "cell_type": "code",
   "execution_count": 17,
   "id": "5a5d144e",
   "metadata": {},
   "outputs": [
    {
     "name": "stdout",
     "output_type": "stream",
     "text": [
      "* \n",
      "* * \n",
      "* * * \n",
      "* * * * \n",
      "* * * * * \n"
     ]
    }
   ],
   "source": [
    "n=5\n",
    "c=1\n",
    "while(c<n+1):\n",
    "    x=1\n",
    "    while(x<=c):\n",
    "        print(\"*\",end=\" \")\n",
    "        x+=1 \n",
    "    print()\n",
    "    c+=1\n"
   ]
  },
  {
   "cell_type": "code",
   "execution_count": null,
   "id": "d99c0e66",
   "metadata": {},
   "outputs": [],
   "source": []
  }
 ],
 "metadata": {
  "kernelspec": {
   "display_name": "Python 3",
   "language": "python",
   "name": "python3"
  },
  "language_info": {
   "codemirror_mode": {
    "name": "ipython",
    "version": 3
   },
   "file_extension": ".py",
   "mimetype": "text/x-python",
   "name": "python",
   "nbconvert_exporter": "python",
   "pygments_lexer": "ipython3",
   "version": "3.9.5"
  }
 },
 "nbformat": 4,
 "nbformat_minor": 5
}
