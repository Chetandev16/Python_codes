{
 "cells": [
  {
   "cell_type": "markdown",
   "id": "663bd388",
   "metadata": {},
   "source": [
    "AREA OF TRIANGLE "
   ]
  },
  {
   "cell_type": "code",
   "execution_count": 44,
   "id": "720a3039",
   "metadata": {},
   "outputs": [],
   "source": [
    "a=8\n",
    "b=13\n",
    "c=11\n",
    "s=(a+b+c)/2"
   ]
  },
  {
   "cell_type": "code",
   "execution_count": 45,
   "id": "b18c4e7a",
   "metadata": {},
   "outputs": [],
   "source": [
    "import math\n",
    "\n",
    "area = math.sqrt(s*(s-a)*(s-b)*(s-c))"
   ]
  },
  {
   "cell_type": "code",
   "execution_count": 47,
   "id": "e5a31c21",
   "metadata": {},
   "outputs": [
    {
     "name": "stdout",
     "output_type": "stream",
     "text": [
      "43.81780460041329\n"
     ]
    }
   ],
   "source": [
    "print(area)"
   ]
  },
  {
   "cell_type": "code",
   "execution_count": 49,
   "id": "1644643f",
   "metadata": {},
   "outputs": [
    {
     "data": {
      "text/plain": [
       "'C:\\\\Users\\\\cheta\\\\chetan1\\\\firstprograms'"
      ]
     },
     "execution_count": 49,
     "metadata": {},
     "output_type": "execute_result"
    }
   ],
   "source": [
    "pwd"
   ]
  },
  {
   "cell_type": "code",
   "execution_count": null,
   "id": "0371a40a",
   "metadata": {},
   "outputs": [],
   "source": []
  }
 ],
 "metadata": {
  "kernelspec": {
   "display_name": "Python 3",
   "language": "python",
   "name": "python3"
  },
  "language_info": {
   "codemirror_mode": {
    "name": "ipython",
    "version": 3
   },
   "file_extension": ".py",
   "mimetype": "text/x-python",
   "name": "python",
   "nbconvert_exporter": "python",
   "pygments_lexer": "ipython3",
   "version": "3.9.5"
  }
 },
 "nbformat": 4,
 "nbformat_minor": 5
}
