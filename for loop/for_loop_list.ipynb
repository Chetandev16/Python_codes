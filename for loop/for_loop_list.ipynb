{
 "cells": [
  {
   "cell_type": "code",
   "execution_count": 7,
   "id": "1c3a8afe",
   "metadata": {},
   "outputs": [
    {
     "name": "stdout",
     "output_type": "stream",
     "text": [
      "[6, 8, 10, 12]\n"
     ]
    }
   ],
   "source": [
    "s1=[1,2,3,4]\n",
    "s2=[5,6,7,8]\n",
    "s3=[]\n",
    "x=0\n",
    "y=0\n",
    "for i in range(0,4):\n",
    "    x=s1[i]\n",
    "    y=s2[i]\n",
    "    sum = x+y\n",
    "    s3.append(sum)\n",
    "print(s3)"
   ]
  },
  {
   "cell_type": "code",
   "execution_count": 48,
   "id": "ad4cc7c0",
   "metadata": {},
   "outputs": [
    {
     "name": "stdout",
     "output_type": "stream",
     "text": [
      "[14, 14, 16, 16, 16, 16, 19]\n"
     ]
    }
   ],
   "source": [
    "num=[14,16,19]\n",
    "rep=[2,4,1]\n",
    "out=[]\n",
    "for i in range(len(num)):\n",
    "    for j in range(rep[i]):\n",
    "        out.append(num[i])\n",
    "print(out)\n",
    "        "
   ]
  },
  {
   "cell_type": "code",
   "execution_count": 49,
   "id": "6442bbf5",
   "metadata": {},
   "outputs": [
    {
     "name": "stdout",
     "output_type": "stream",
     "text": [
      "enter no u want to search 15\n",
      "Number found at\n",
      "4\n",
      "Number found at\n",
      "6\n",
      "occurrence := \n",
      "2\n"
     ]
    }
   ],
   "source": [
    "search = [10,10,12,14,15,16,15,14,11,12,14]\n",
    "num = input(\"enter no u want to search \")\n",
    "x=int(num)\n",
    "c=0\n",
    "for i in range(len(search)):\n",
    "    if(x==search[i]):\n",
    "        print(\"Number found at\")\n",
    "        print(i)\n",
    "        c=c+1\n",
    "print(\"occurrence := \")\n",
    "print(c)"
   ]
  },
  {
   "cell_type": "code",
   "execution_count": 2,
   "id": "104582b8",
   "metadata": {},
   "outputs": [
    {
     "name": "stdout",
     "output_type": "stream",
     "text": [
      "[1, 9, 10, 15, 35]\n"
     ]
    }
   ],
   "source": [
    "num=[10,1,15,9,35]\n",
    "temp=0\n",
    "for i in range(len(num)):\n",
    "    for j in range(len(num)-1):\n",
    "        if(num[j]>num[j+1]):\n",
    "            temp=num[j+1]\n",
    "            num[j+1]=num[j]\n",
    "            num[j]=temp\n",
    "print(num)"
   ]
  },
  {
   "cell_type": "code",
   "execution_count": null,
   "id": "739a091a",
   "metadata": {},
   "outputs": [],
   "source": []
  }
 ],
 "metadata": {
  "kernelspec": {
   "display_name": "Python 3",
   "language": "python",
   "name": "python3"
  },
  "language_info": {
   "codemirror_mode": {
    "name": "ipython",
    "version": 3
   },
   "file_extension": ".py",
   "mimetype": "text/x-python",
   "name": "python",
   "nbconvert_exporter": "python",
   "pygments_lexer": "ipython3",
   "version": "3.9.5"
  }
 },
 "nbformat": 4,
 "nbformat_minor": 5
}
