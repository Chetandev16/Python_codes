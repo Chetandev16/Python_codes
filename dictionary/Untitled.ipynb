{
 "cells": [
  {
   "cell_type": "code",
   "execution_count": 13,
   "id": "5896c193",
   "metadata": {},
   "outputs": [
    {
     "name": "stdout",
     "output_type": "stream",
     "text": [
      "enter name of stock you want to buy jio/rel/airtelairtel\n",
      "enter amaount of airtel stock you want to buy100\n",
      "Enter yes/no to confirm the trade :no\n",
      "Selling of stock failed\n"
     ]
    }
   ],
   "source": [
    "stock={'jio': {'Open': 1500, 'Close': 1510, 'High': 1700, 'Low': 1300},'airtel': {'Open': 1200, 'Close': 1100, 'High': 1250, 'Low': 1000},'rel': {'Open': 2000, 'Close': 2010, 'High': 2200, 'Low': 1900}}\n",
    "name=input(\"enter name of stock you want to buy jio/rel/airtel\")\n",
    "quan = int(input(\"enter amaount of airtel stock you want to buy\"))\n",
    "x=stock[name]['Open']\n",
    "tax=1.09\n",
    "buy=quan*x*tax\n",
    "str=input(\"Enter yes/no to confirm the trade :\")\n",
    "if(str=='yes'):\n",
    "    x=stock[name]['Close']\n",
    "    sell=quan*s*tax\n",
    "    print(\"stock price of airtel is :- \",buy)\n",
    "    print(\"Selling price of airtel is :-\",sell)\n",
    "    if(buy>sell):\n",
    "        loss=buy-sell\n",
    "        print(\"Suffered a loss of {}\".format(loss))\n",
    "    else:\n",
    "        profit=sell-buy\n",
    "        print(\"Gained a profit of {}\".format(profit))\n",
    "else:\n",
    "    print(\"Selling of stock failed\")"
   ]
  },
  {
   "cell_type": "code",
   "execution_count": null,
   "id": "67306145",
   "metadata": {},
   "outputs": [],
   "source": []
  }
 ],
 "metadata": {
  "kernelspec": {
   "display_name": "Python 3",
   "language": "python",
   "name": "python3"
  },
  "language_info": {
   "codemirror_mode": {
    "name": "ipython",
    "version": 3
   },
   "file_extension": ".py",
   "mimetype": "text/x-python",
   "name": "python",
   "nbconvert_exporter": "python",
   "pygments_lexer": "ipython3",
   "version": "3.9.5"
  }
 },
 "nbformat": 4,
 "nbformat_minor": 5
}
