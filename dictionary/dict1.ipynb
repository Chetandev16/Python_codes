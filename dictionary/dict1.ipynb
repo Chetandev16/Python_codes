{
 "cells": [
  {
   "cell_type": "code",
   "execution_count": null,
   "id": "e019aee1",
   "metadata": {},
   "outputs": [],
   "source": [
    "n=4\n",
    "d={}\n",
    "for i in range(1,n+1):\n",
    "    name = input(\"Enter name of company {} :-\".format(i))\n",
    "    open = int(input(\"Enter open prize of {} -\".format(name)))\n",
    "    close = int(input(\"Enter closing prize of {} -\".format(name)))\n",
    "    low = int(input(\"Enter lowest prize of {} -\".format(name)))\n",
    "    high = int(input(\"Enter highest prize of {}_\".format(name)))\n",
    "    d[name]=open \n",
    "    d[name]=close\n",
    "    d[name]=low\n",
    "    d[name]=high\n",
    "print(d)"
   ]
  },
  {
   "cell_type": "code",
   "execution_count": null,
   "id": "5bc286a6",
   "metadata": {},
   "outputs": [],
   "source": [
    "n=3\n",
    "d={}\n",
    "for i in range(1,n+1):\n",
    "    name = input(\"Enter name of company {} :-\".format(i))\n",
    "    ope = int(input(\"Enter open prize of {} -\".format(name)))\n",
    "    close = int(input(\"Enter closing prize of {} -\".format(name)))\n",
    "    low = int(input(\"Enter lowest prize of {} -\".format(name)))\n",
    "    high = int(input(\"Enter highest prize of {}_\".format(name)))\n",
    "    d[name] = {\"open\":ope,\"close\":close,\"low\":low,\"high\":high}\n",
    "print(d)\n",
    "    "
   ]
  },
  {
   "cell_type": "code",
   "execution_count": null,
   "id": "f381b22b",
   "metadata": {},
   "outputs": [],
   "source": [
    "name=['chetan','aman']\n",
    "score=['chetan':98,78,87 ,\n",
    "        'aman':65,64,78,]\n",
    "match=[]\n",
    "for i in range"
   ]
  },
  {
   "cell_type": "code",
   "execution_count": 17,
   "id": "e8ce3bc7",
   "metadata": {},
   "outputs": [
    {
     "name": "stdout",
     "output_type": "stream",
     "text": [
      "enter name of stock you want to buy jio/rel/airtelrel\n",
      "enter amaount of airtel stock you want to buy2\n",
      "Enter yes/no to confirm the trade :yes\n",
      "stock price of airtel is :-  4360.0\n",
      "Selling price of airtel is :- 250.70000000000002\n",
      "Suffered a loss of 4109.3\n"
     ]
    }
   ],
   "source": [
    "stock={'jio': {'Open': 1500, 'Close': 1510, 'High': 1700, 'Low': 1300},'airtel': {'Open': 1200, 'Close': 1100, 'High': 1250, 'Low': 1000},'rel': {'Open': 2000, 'Close': 2010, 'High': 2200, 'Low': 1900}}\n",
    "name=input(\"enter name of stock you want to buy jio/rel/airtel\")\n",
    "quan = int(input(\"enter amaount of airtel stock you want to buy\"))\n",
    "x=stock[name]['Open']\n",
    "tax=1.09\n",
    "buy=quan*x*tax\n",
    "str=input(\"Enter yes/no to confirm the trade :\")\n",
    "if(str=='yes'):\n",
    "    x=stock[name]['Close']\n",
    "    sell=quan*s*tax\n",
    "    print(\"stock price of airtel is :- \",buy)\n",
    "    print(\"Selling price of airtel is :-\",sell)\n",
    "    if(buy>sell):\n",
    "        loss=buy-sell\n",
    "        print(\"Suffered a loss of {}\".format(loss))\n",
    "    else:\n",
    "        profit=sell-buy\n",
    "        print(\"Gained a profit of {}\".format(profit))\n",
    "else:\n",
    "    print(\"Selling of stock failed\")"
   ]
  },
  {
   "cell_type": "code",
   "execution_count": null,
   "id": "fb502364",
   "metadata": {},
   "outputs": [],
   "source": []
  },
  {
   "cell_type": "code",
   "execution_count": null,
   "id": "f07e987d",
   "metadata": {},
   "outputs": [],
   "source": []
  }
 ],
 "metadata": {
  "kernelspec": {
   "display_name": "Python 3",
   "language": "python",
   "name": "python3"
  },
  "language_info": {
   "codemirror_mode": {
    "name": "ipython",
    "version": 3
   },
   "file_extension": ".py",
   "mimetype": "text/x-python",
   "name": "python",
   "nbconvert_exporter": "python",
   "pygments_lexer": "ipython3",
   "version": "3.9.5"
  }
 },
 "nbformat": 4,
 "nbformat_minor": 5
}
