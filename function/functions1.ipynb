{
 "cells": [
  {
   "cell_type": "code",
   "execution_count": 22,
   "id": "8d517a81",
   "metadata": {},
   "outputs": [
    {
     "name": "stdout",
     "output_type": "stream",
     "text": [
      "enter how manay number you want to display in fibonacci series:6\n",
      "[0, 1, 1, 2, 3, 5, 8, 13]\n"
     ]
    }
   ],
   "source": [
    "def fun(x):\n",
    "    a=0\n",
    "    b=1\n",
    "    sum1=0\n",
    "    x=[]\n",
    "    x.append(a)\n",
    "    x.append(b)\n",
    "    for i in range(0,n):\n",
    "        sum1=a+b\n",
    "        a=b\n",
    "        b=sum1\n",
    "        x.append(sum1)\n",
    "    print(x)\n",
    "    \n",
    "n=int(input(\"enter how manay number you want to display in fibonacci series:\"))\n",
    "fun(n)"
   ]
  },
  {
   "cell_type": "code",
   "execution_count": 42,
   "id": "7ff2dc57",
   "metadata": {},
   "outputs": [],
   "source": [
    "def func(n):\n",
    "    sum1=0\n",
    "    temp=n\n",
    "    while(n!=0):\n",
    "        c=n%10\n",
    "        sum1=sum1+(c*c*c)\n",
    "        n=n//10\n",
    "    if(temp==sum1):\n",
    "        print(\"Number is armstrong number!\")\n",
    "    else:\n",
    "        print(\"Number is not a armstrong number\")\n"
   ]
  },
  {
   "cell_type": "code",
   "execution_count": 44,
   "id": "a963dcc3",
   "metadata": {},
   "outputs": [
    {
     "name": "stdout",
     "output_type": "stream",
     "text": [
      "enter ! 153\n",
      "Number is armstrong number!\n"
     ]
    }
   ],
   "source": [
    "val = int(input(\"enter ! \"))\n",
    "func(val)\n",
    "        "
   ]
  },
  {
   "cell_type": "code",
   "execution_count": 56,
   "id": "0b7b1c57",
   "metadata": {},
   "outputs": [],
   "source": [
    "def func1(n):\n",
    "    val=n\n",
    "    final=0\n",
    "    while(n!=0):\n",
    "        x=n%10\n",
    "        final = final*10 + x\n",
    "        n=n//10\n",
    "    if(val==final):\n",
    "        print(\"number is palindrome!\")\n",
    "    else:\n",
    "        print(\"number is not palindrome!\")"
   ]
  },
  {
   "cell_type": "code",
   "execution_count": 57,
   "id": "5734dbaf",
   "metadata": {},
   "outputs": [
    {
     "name": "stdout",
     "output_type": "stream",
     "text": [
      "enter1221\n",
      "number is palindrome!\n"
     ]
    }
   ],
   "source": [
    "val1=int(input(\"enter\"))\n",
    "func1(val1)"
   ]
  },
  {
   "cell_type": "code",
   "execution_count": null,
   "id": "fd666177",
   "metadata": {},
   "outputs": [],
   "source": []
  }
 ],
 "metadata": {
  "kernelspec": {
   "display_name": "Python 3",
   "language": "python",
   "name": "python3"
  },
  "language_info": {
   "codemirror_mode": {
    "name": "ipython",
    "version": 3
   },
   "file_extension": ".py",
   "mimetype": "text/x-python",
   "name": "python",
   "nbconvert_exporter": "python",
   "pygments_lexer": "ipython3",
   "version": "3.9.5"
  }
 },
 "nbformat": 4,
 "nbformat_minor": 5
}
