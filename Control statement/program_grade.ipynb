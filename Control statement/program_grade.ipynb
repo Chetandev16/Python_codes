{
 "cells": [
  {
   "cell_type": "code",
   "execution_count": 1,
   "id": "50647397",
   "metadata": {},
   "outputs": [],
   "source": [
    "marks=74"
   ]
  },
  {
   "cell_type": "code",
   "execution_count": 2,
   "id": "0a386c85",
   "metadata": {},
   "outputs": [],
   "source": [
    "if(marks>80):\n",
    "    grd=\"A\"\n",
    "elif(marks>70 and marks<=80):\n",
    "    grd=\"B\"\n",
    "elif(marks>60 and marks<=70):\n",
    "    grd=\"C\"\n",
    "elif(marks>50 and marks<=60):\n",
    "    grd=\"D\"\n",
    "elif(marks>40 and marks<=50):\n",
    "    grd=\"E\"\n",
    "else:\n",
    "    grd=\"G\""
   ]
  },
  {
   "cell_type": "code",
   "execution_count": 3,
   "id": "d6a44d02",
   "metadata": {},
   "outputs": [
    {
     "name": "stdout",
     "output_type": "stream",
     "text": [
      "B\n"
     ]
    }
   ],
   "source": [
    "print(grd)"
   ]
  },
  {
   "cell_type": "code",
   "execution_count": null,
   "id": "120fbc7c",
   "metadata": {},
   "outputs": [],
   "source": []
  }
 ],
 "metadata": {
  "kernelspec": {
   "display_name": "Python 3",
   "language": "python",
   "name": "python3"
  },
  "language_info": {
   "codemirror_mode": {
    "name": "ipython",
    "version": 3
   },
   "file_extension": ".py",
   "mimetype": "text/x-python",
   "name": "python",
   "nbconvert_exporter": "python",
   "pygments_lexer": "ipython3",
   "version": "3.9.5"
  }
 },
 "nbformat": 4,
 "nbformat_minor": 5
}
