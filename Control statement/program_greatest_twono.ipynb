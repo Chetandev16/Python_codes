{
 "cells": [
  {
   "cell_type": "code",
   "execution_count": 1,
   "id": "f2605281",
   "metadata": {},
   "outputs": [],
   "source": [
    "a= 10\n",
    "b=30"
   ]
  },
  {
   "cell_type": "code",
   "execution_count": 2,
   "id": "1b97a6f0",
   "metadata": {},
   "outputs": [
    {
     "name": "stdout",
     "output_type": "stream",
     "text": [
      "b is greater then a\n"
     ]
    }
   ],
   "source": [
    "if(a>b):\n",
    "    print(\"a is greater then b\")\n",
    "else:\n",
    "    print(\"b is greater then a\")"
   ]
  },
  {
   "cell_type": "code",
   "execution_count": null,
   "id": "03a0044e",
   "metadata": {},
   "outputs": [],
   "source": []
  }
 ],
 "metadata": {
  "kernelspec": {
   "display_name": "Python 3",
   "language": "python",
   "name": "python3"
  },
  "language_info": {
   "codemirror_mode": {
    "name": "ipython",
    "version": 3
   },
   "file_extension": ".py",
   "mimetype": "text/x-python",
   "name": "python",
   "nbconvert_exporter": "python",
   "pygments_lexer": "ipython3",
   "version": "3.9.5"
  }
 },
 "nbformat": 4,
 "nbformat_minor": 5
}
