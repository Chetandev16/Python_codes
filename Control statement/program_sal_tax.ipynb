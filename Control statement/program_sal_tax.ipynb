{
 "cells": [
  {
   "cell_type": "code",
   "execution_count": 1,
   "id": "bad46717",
   "metadata": {},
   "outputs": [],
   "source": [
    "sal=500000"
   ]
  },
  {
   "cell_type": "code",
   "execution_count": 3,
   "id": "48bd36bb",
   "metadata": {},
   "outputs": [],
   "source": [
    "if(sal<300000):\n",
    "    tax=0\n",
    "    fsal=sal\n",
    "elif(sal>300000 and sal<=500000):\n",
    "    tax=5\n",
    "    fsal=((5/100)*sal)+sal\n",
    "elif(sal>500000 and sal<=1000000):\n",
    "    tax=10\n",
    "    fsal=((10/100)*sal)+sal\n",
    "elif(sal>1000000 and sal<=1500000):\n",
    "    tax=15\n",
    "    fsal=((15/100)*sal)+sal\n",
    "elif(sal>1500000 and sal<=2000000):\n",
    "    tax=20\n",
    "    fsal=((20/100)*sal)+sal\n",
    "else:\n",
    "    tax=25\n",
    "    fsal=((25/100)*sal)+sal"
   ]
  },
  {
   "cell_type": "code",
   "execution_count": 5,
   "id": "89d8cfa2",
   "metadata": {},
   "outputs": [
    {
     "name": "stdout",
     "output_type": "stream",
     "text": [
      "5 525000.0\n"
     ]
    }
   ],
   "source": [
    "print(tax,fsal)"
   ]
  },
  {
   "cell_type": "code",
   "execution_count": null,
   "id": "921a5a9d",
   "metadata": {},
   "outputs": [],
   "source": []
  }
 ],
 "metadata": {
  "kernelspec": {
   "display_name": "Python 3",
   "language": "python",
   "name": "python3"
  },
  "language_info": {
   "codemirror_mode": {
    "name": "ipython",
    "version": 3
   },
   "file_extension": ".py",
   "mimetype": "text/x-python",
   "name": "python",
   "nbconvert_exporter": "python",
   "pygments_lexer": "ipython3",
   "version": "3.9.5"
  }
 },
 "nbformat": 4,
 "nbformat_minor": 5
}
