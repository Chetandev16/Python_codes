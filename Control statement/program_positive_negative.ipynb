{
 "cells": [
  {
   "cell_type": "code",
   "execution_count": 1,
   "id": "91816eb0",
   "metadata": {},
   "outputs": [],
   "source": [
    "a= 10"
   ]
  },
  {
   "cell_type": "code",
   "execution_count": 11,
   "id": "d6f758f6",
   "metadata": {},
   "outputs": [
    {
     "name": "stdout",
     "output_type": "stream",
     "text": [
      "number is positive\n"
     ]
    }
   ],
   "source": [
    "if a<0:\n",
    "    print(\"Number is negative\")\n",
    "else:\n",
    "    print(\"number is positive\")"
   ]
  },
  {
   "cell_type": "code",
   "execution_count": null,
   "id": "42829b10",
   "metadata": {},
   "outputs": [],
   "source": [
    "e"
   ]
  }
 ],
 "metadata": {
  "kernelspec": {
   "display_name": "Python 3",
   "language": "python",
   "name": "python3"
  },
  "language_info": {
   "codemirror_mode": {
    "name": "ipython",
    "version": 3
   },
   "file_extension": ".py",
   "mimetype": "text/x-python",
   "name": "python",
   "nbconvert_exporter": "python",
   "pygments_lexer": "ipython3",
   "version": "3.9.5"
  }
 },
 "nbformat": 4,
 "nbformat_minor": 5
}
