{
 "cells": [
  {
   "cell_type": "code",
   "execution_count": 1,
   "id": "096b7361",
   "metadata": {},
   "outputs": [],
   "source": [
    "par=\"chetanpathak45@gmail.com\""
   ]
  },
  {
   "cell_type": "code",
   "execution_count": 3,
   "id": "ad3cc1f5",
   "metadata": {},
   "outputs": [
    {
     "data": {
      "text/plain": [
       "'chetanpathak45'"
      ]
     },
     "execution_count": 3,
     "metadata": {},
     "output_type": "execute_result"
    }
   ],
   "source": [
    "par[0:14]"
   ]
  },
  {
   "cell_type": "code",
   "execution_count": 5,
   "id": "4654fe60",
   "metadata": {},
   "outputs": [
    {
     "data": {
      "text/plain": [
       "'gmail.com'"
      ]
     },
     "execution_count": 5,
     "metadata": {},
     "output_type": "execute_result"
    }
   ],
   "source": [
    "par[15:24]"
   ]
  },
  {
   "cell_type": "code",
   "execution_count": null,
   "id": "f22e3329",
   "metadata": {},
   "outputs": [],
   "source": []
  }
 ],
 "metadata": {
  "kernelspec": {
   "display_name": "Python 3",
   "language": "python",
   "name": "python3"
  },
  "language_info": {
   "codemirror_mode": {
    "name": "ipython",
    "version": 3
   },
   "file_extension": ".py",
   "mimetype": "text/x-python",
   "name": "python",
   "nbconvert_exporter": "python",
   "pygments_lexer": "ipython3",
   "version": "3.9.5"
  }
 },
 "nbformat": 4,
 "nbformat_minor": 5
}
