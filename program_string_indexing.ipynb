{
 "cells": [
  {
   "cell_type": "code",
   "execution_count": 3,
   "id": "7f3a09b8",
   "metadata": {},
   "outputs": [
    {
     "data": {
      "text/plain": [
       "'chetanpathak45'"
      ]
     },
     "execution_count": 3,
     "metadata": {},
     "output_type": "execute_result"
    }
   ],
   "source": [
    "par[0:14]"
   ]
  },
  {
   "cell_type": "code",
   "execution_count": 11,
   "id": "136bf86c",
   "metadata": {},
   "outputs": [],
   "source": [
    "par=\"chetanpathak45@gmail.com\""
   ]
  },
  {
   "cell_type": "code",
   "execution_count": 12,
   "id": "938906d7",
   "metadata": {},
   "outputs": [],
   "source": [
    "i=par.index(\"@\")"
   ]
  },
  {
   "cell_type": "code",
   "execution_count": 13,
   "id": "45c9f8c8",
   "metadata": {},
   "outputs": [
    {
     "data": {
      "text/plain": [
       "'chetanpathak45'"
      ]
     },
     "execution_count": 13,
     "metadata": {},
     "output_type": "execute_result"
    }
   ],
   "source": [
    "par[:i]"
   ]
  },
  {
   "cell_type": "code",
   "execution_count": 14,
   "id": "d6ef14de",
   "metadata": {},
   "outputs": [
    {
     "data": {
      "text/plain": [
       "'gmail'"
      ]
     },
     "execution_count": 14,
     "metadata": {},
     "output_type": "execute_result"
    }
   ],
   "source": [
    "par[i+1:-4]"
   ]
  },
  {
   "cell_type": "code",
   "execution_count": null,
   "id": "b8171f7f",
   "metadata": {},
   "outputs": [],
   "source": []
  }
 ],
 "metadata": {
  "kernelspec": {
   "display_name": "Python 3",
   "language": "python",
   "name": "python3"
  },
  "language_info": {
   "codemirror_mode": {
    "name": "ipython",
    "version": 3
   },
   "file_extension": ".py",
   "mimetype": "text/x-python",
   "name": "python",
   "nbconvert_exporter": "python",
   "pygments_lexer": "ipython3",
   "version": "3.9.5"
  }
 },
 "nbformat": 4,
 "nbformat_minor": 5
}
